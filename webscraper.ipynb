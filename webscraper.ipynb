{
 "cells": [
  {
   "cell_type": "code",
   "execution_count": 157,
   "id": "066008fb-318e-415f-8bcd-d4c1acd7b15a",
   "metadata": {},
   "outputs": [],
   "source": [
    "import requests\n",
    "from bs4 import BeautifulSoup\n",
    "import pandas as pd\n",
    "import re\n",
    "from tqdm import tqdm"
   ]
  },
  {
   "cell_type": "code",
   "execution_count": 149,
   "id": "782b5d7f-6b94-4afa-8ef6-96791439573a",
   "metadata": {},
   "outputs": [],
   "source": [
    "url = 'https://www.drugs.com/alpha/a.html'\n",
    "r = requests.get(url)\n",
    "soup = BeautifulSoup(r.content, 'html.parser')"
   ]
  },
  {
   "cell_type": "code",
   "execution_count": 87,
   "id": "c73080b6-1dfe-4b42-8e64-cce373537bf7",
   "metadata": {},
   "outputs": [],
   "source": [
    "count= len(soup.findAll('div')[5].findAll('li'))\n",
    "print(count)"
   ]
  },
  {
   "cell_type": "code",
   "execution_count": 88,
   "id": "2a9c8f6c-fe7f-4efb-b5bc-3b7de254704e",
   "metadata": {},
   "outputs": [],
   "source": [
    "lst_of_links = []\n",
    "for i in range(0,count):\n",
    "    links = soup.findAll('div')[5].findAll('li')[i].find('a')['href']\n",
    "    lst_of_links.append(f\"https://www.drugs.com{links}\")"
   ]
  },
  {
   "cell_type": "code",
   "execution_count": 159,
   "id": "4d840aab-7768-4bdf-8280-edb4f2700d6f",
   "metadata": {},
   "outputs": [],
   "source": [
    "common_drgs_lst = []\n",
    "for lst_of_link in lst_of_links:\n",
    "    url = lst_of_link\n",
    "    r = requests.get(url)\n",
    "    soup = BeautifulSoup(r.content, 'html.parser')\n",
    "    count_of_most_common = len(soup.findAll('ul')[5].findAll('li'))\n",
    "    for i in range(0,count_of_most_common):\n",
    "        common_drugs_link = soup.findAll('ul')[5].findAll('li')[i].find('a')['href']\n",
    "        common_drug_name = soup.findAll('ul')[5].findAll('li')[i].find('a').text\n",
    "        \n",
    "        common_drgs_dict = {'link': f\"https://www.drugs.com{common_drugs_link}\",\n",
    "                            'name': common_drug_name}\n",
    "\n",
    "\n",
    "        common_drgs_lst.append(common_drgs_dict)"
   ]
  },
  {
   "cell_type": "code",
   "execution_count": 161,
   "id": "c90edca3-85d8-459d-a8d9-e08909cf6608",
   "metadata": {
    "scrolled": true
   },
   "outputs": [],
   "source": [
    "# common_drgs_lst"
   ]
  },
  {
   "cell_type": "code",
   "execution_count": 117,
   "id": "55a4e3ee-e2f5-4b13-a61d-6f096af3b1b9",
   "metadata": {},
   "outputs": [
    {
     "data": {
      "text/plain": [
       "'/abilify.html'"
      ]
     },
     "execution_count": 117,
     "metadata": {},
     "output_type": "execute_result"
    }
   ],
   "source": [
    "soup.findAll('ul')[5].findAll('li')[0].find('a')['href']"
   ]
  },
  {
   "cell_type": "markdown",
   "id": "1c35f196-53d3-4595-a38a-57d4eb50441d",
   "metadata": {},
   "source": [
    "## Data Cleaning"
   ]
  },
  {
   "cell_type": "code",
   "execution_count": 147,
   "id": "2b34ee81-eb83-4238-b1e3-2a0b3b7e7609",
   "metadata": {},
   "outputs": [],
   "source": [
    "def clean_data(text):\n",
    "    # Remove excess whitespace and newlines\n",
    "    text = re.sub(r'\\s+', ' ', text)  # Replace multiple whitespace/newlines with a single space\n",
    "    text = text.strip()  # Remove leading/trailing whitespace\n",
    "    \n",
    "    # Optional: Remove known irrelevant sections (like Copyright)\n",
    "    text = re.sub(r'Copyright.*', '', text)\n",
    "    \n",
    "    return text"
   ]
  },
  {
   "cell_type": "code",
   "execution_count": 170,
   "id": "f5a95796-f59a-457e-91ca-b0df0ee6d05b",
   "metadata": {},
   "outputs": [
    {
     "data": {
      "text/plain": [
       "'Abilify'"
      ]
     },
     "execution_count": 170,
     "metadata": {},
     "output_type": "execute_result"
    }
   ],
   "source": [
    "common_drgs_lst[0]['name']"
   ]
  },
  {
   "cell_type": "code",
   "execution_count": 177,
   "id": "5de0cef6-5514-406d-b7d5-a66406db0333",
   "metadata": {},
   "outputs": [
    {
     "name": "stderr",
     "output_type": "stream",
     "text": [
      "100%|███████████████████████████████████████| 1217/1217 [08:27<00:00,  2.40it/s]\n"
     ]
    }
   ],
   "source": [
    "common_drugs_pd = []\n",
    "for i in tqdm(range(len(common_drgs_lst))):\n",
    "    url = common_drgs_lst[i]['link']\n",
    "    name = common_drgs_lst[i]['name']\n",
    "    r = requests.get(url)\n",
    "    soup = BeautifulSoup(r.content, 'html.parser')\n",
    "    text_data = clean_data(soup.text)\n",
    "    common_drgs_dict = {'link': url,\n",
    "                        'name': name,\n",
    "                       'description': text_data}\n",
    "    common_drugs_pd.append(common_drgs_dict)"
   ]
  },
  {
   "cell_type": "code",
   "execution_count": 180,
   "id": "fdee36b3-bc97-4be6-aa20-9cb470cc9fb4",
   "metadata": {},
   "outputs": [],
   "source": [
    "df_common_drugs = pd.DataFrame(common_drugs_pd)"
   ]
  },
  {
   "cell_type": "markdown",
   "id": "91341200-b6b8-4c88-b361-ea7dfb988dca",
   "metadata": {},
   "source": [
    "## Save Data to CSV FILE"
   ]
  },
  {
   "cell_type": "code",
   "execution_count": 182,
   "id": "a1b3b0c4-5e50-4f75-9efd-6addc8b84f42",
   "metadata": {},
   "outputs": [],
   "source": [
    "df_common_drugs.to_csv('onemed.csv', index= False\n",
    "                      )"
   ]
  },
  {
   "cell_type": "code",
   "execution_count": null,
   "id": "55d24a76-1c83-499d-8268-f37a2fc0d20c",
   "metadata": {},
   "outputs": [],
   "source": []
  }
 ],
 "metadata": {
  "kernelspec": {
   "display_name": "Python 3 (ipykernel)",
   "language": "python",
   "name": "python3"
  },
  "language_info": {
   "codemirror_mode": {
    "name": "ipython",
    "version": 3
   },
   "file_extension": ".py",
   "mimetype": "text/x-python",
   "name": "python",
   "nbconvert_exporter": "python",
   "pygments_lexer": "ipython3",
   "version": "3.11.2"
  }
 },
 "nbformat": 4,
 "nbformat_minor": 5
}
